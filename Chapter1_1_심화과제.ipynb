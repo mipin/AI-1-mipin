{
  "nbformat": 4,
  "nbformat_minor": 0,
  "metadata": {
    "colab": {
      "provenance": [],
      "gpuType": "T4",
      "include_colab_link": true
    },
    "kernelspec": {
      "name": "python3",
      "display_name": "Python 3"
    },
    "language_info": {
      "name": "python"
    },
    "accelerator": "GPU"
  },
  "cells": [
    {
      "cell_type": "markdown",
      "metadata": {
        "id": "view-in-github",
        "colab_type": "text"
      },
      "source": [
        "<a href=\"https://colab.research.google.com/github/mipin/AI-1-mipin/blob/main/Chapter1_1_%EC%8B%AC%ED%99%94%EA%B3%BC%EC%A0%9C.ipynb\" target=\"_parent\"><img src=\"https://colab.research.google.com/assets/colab-badge.svg\" alt=\"Open In Colab\"/></a>"
      ]
    },
    {
      "cell_type": "markdown",
      "source": [
        "# MNIST 실습\n",
        "\n",
        "이번에는 28x28 흑백 손글씨 이미지를 보고 0~9 사이의 숫자 중 어떤 숫자를 쓴 것인지 예측하는 문제를 실습합니다.\n",
        "이번 실습에서는 GPU를 활용할 것이기 때문에, 이전 챕터에서 Colab에서 GPU를 설정하는 방법을 따라해주시길 바랍니다.\n",
        "\n",
        "GPU를 설정했으면 library들을 import합니다."
      ],
      "metadata": {
        "id": "OPJenlrhihrh"
      }
    },
    {
      "cell_type": "code",
      "execution_count": 1,
      "metadata": {
        "id": "6lXVfXoDtoQh"
      },
      "outputs": [],
      "source": [
        "import torch\n",
        "import torchvision\n",
        "import torchvision.transforms as transforms\n",
        "import numpy as np"
      ]
    },
    {
      "cell_type": "markdown",
      "source": [
        "다음은 dataset을 준비합니다. 손글씨 dataset은 MNIST라는 유명한 dataset이 있습니다. 이 dataset은 `torchvision`에서 제공하고 있으며, 다음과 같이 다운로드 받을 수 있습니다."
      ],
      "metadata": {
        "id": "pF-1zQvmiult"
      }
    },
    {
      "cell_type": "code",
      "source": [
        "transform = transforms.ToTensor()\n",
        "\n",
        "trainset = torchvision.datasets.CIFAR10(\n",
        "    root='./data',\n",
        "    train=True,\n",
        "    download=True,\n",
        "    transform=transform\n",
        ")"
      ],
      "metadata": {
        "id": "KAYlqPaRt6ti",
        "collapsed": true,
        "colab": {
          "base_uri": "https://localhost:8080/"
        },
        "outputId": "54a00339-b3a2-4e8e-d649-ca38b6f1e5c1"
      },
      "execution_count": 2,
      "outputs": [
        {
          "output_type": "stream",
          "name": "stdout",
          "text": [
            "Downloading https://www.cs.toronto.edu/~kriz/cifar-10-python.tar.gz to ./data/cifar-10-python.tar.gz\n"
          ]
        },
        {
          "output_type": "stream",
          "name": "stderr",
          "text": [
            "100%|██████████| 170498071/170498071 [01:02<00:00, 2744820.83it/s]\n"
          ]
        },
        {
          "output_type": "stream",
          "name": "stdout",
          "text": [
            "Extracting ./data/cifar-10-python.tar.gz to ./data\n"
          ]
        }
      ]
    },
    {
      "cell_type": "code",
      "source": [
        "testset = torchvision.datasets.CIFAR10(\n",
        "    root='./data',\n",
        "    train=False,\n",
        "    download=True,\n",
        "    transform=transform\n",
        ")"
      ],
      "metadata": {
        "id": "905CpnCvsxOd",
        "colab": {
          "base_uri": "https://localhost:8080/"
        },
        "outputId": "4400bb0b-6632-4620-e230-94e2dcfc1d4b"
      },
      "execution_count": 3,
      "outputs": [
        {
          "output_type": "stream",
          "name": "stdout",
          "text": [
            "Files already downloaded and verified\n"
          ]
        }
      ]
    },
    {
      "cell_type": "markdown",
      "source": [
        "MNIST는 손글씨 사진과 어떤 숫자를 의미하는지에 대한 label의 pair들로 구성되어있습니다.\n",
        "이 때, 우리는 PyTorch model을 사용할 것이기 때문에 손글씨 사진들을 모두 tensor로 변환해야합니다.\n",
        "이러한 부가적인 변환들은 `torchvision.transforms`에서 제공하고 있으며, `torchvision.datasets.MNIST`에서 `transform` 인자로 받을 수 있습니다.\n",
        "우리는 단순히 사진을 tensor로 바꾸고 싶기 때문에 `transforms.ToTensor()` transformation을 넘겨줍니다.\n",
        "\n",
        "다음은 전체 data의 개수와 첫 번째 data를 출력한 결과입니다."
      ],
      "metadata": {
        "id": "p-GqH7_ZjVMs"
      }
    },
    {
      "cell_type": "code",
      "source": [
        "from matplotlib import pyplot as plt\n",
        "\n",
        "\n",
        "print(len(trainset))\n",
        "print(trainset[0][0].shape, trainset[1][1])\n",
        "sample = np.transpose(trainset[1][0], (1,2,0))\n",
        "plt.imshow(sample)"
      ],
      "metadata": {
        "colab": {
          "base_uri": "https://localhost:8080/",
          "height": 484
        },
        "id": "Zsp3sHmojyhT",
        "outputId": "9a311934-d498-4f22-c56e-859994e5848b"
      },
      "execution_count": 4,
      "outputs": [
        {
          "output_type": "stream",
          "name": "stdout",
          "text": [
            "50000\n",
            "torch.Size([3, 32, 32]) 9\n"
          ]
        },
        {
          "output_type": "execute_result",
          "data": {
            "text/plain": [
              "<matplotlib.image.AxesImage at 0x7bd901769db0>"
            ]
          },
          "metadata": {},
          "execution_count": 4
        },
        {
          "output_type": "display_data",
          "data": {
            "text/plain": [
              "<Figure size 640x480 with 1 Axes>"
            ],
            "image/png": "[encoded data removed]"
          },
          "metadata": {}
        }
      ]
    },
    {
      "cell_type": "markdown",
      "source": [
        "첫 번째 출력결과를 통해 우리는 6만장의 손글씨 data가 있는 것을 알 수 있습니다.\n",
        "그리고 두 번째 출력결과를 통해 첫 번째 data의 shape은 (1, 28, 28)이고 5라는 숫자를 쓴 사진이라는 것을 알 수 있습니다.\n",
        "마지막으로 `plt.imshow`를 통해 visualize 했을 때 5라는 숫자가 나오는 것을 알 수 있습니다.\n",
        "\n",
        "다음은 SGD를 위해 dataset을 여러 개의 batch로 나누는 과정을 PyTorch로 구현한 모습입니다."
      ],
      "metadata": {
        "id": "udm8wDBsi301"
      }
    },
    {
      "cell_type": "code",
      "source": [
        "batch_size = 256\n",
        "\n",
        "trainloader = torch.utils.data.DataLoader(\n",
        "    trainset,\n",
        "    batch_size=batch_size,\n",
        "    shuffle=True\n",
        ")"
      ],
      "metadata": {
        "id": "UxKu3kA2i5WH"
      },
      "execution_count": 5,
      "outputs": []
    },
    {
      "cell_type": "code",
      "source": [
        "testloader = torch.utils.data.DataLoader(\n",
        "    testset,\n",
        "    batch_size=batch_size,\n",
        "    shuffle=False\n",
        ")"
      ],
      "metadata": {
        "id": "vecoYcPMs5E8"
      },
      "execution_count": 6,
      "outputs": []
    },
    {
      "cell_type": "markdown",
      "source": [
        "PyTorch에서는 `DataLoader`가 dataset을 인자로 받아 batch로 나눠줍니다.\n",
        "부가적으로 `batch_size`라는 인자를 통해 batch size를 받고 있으며, `shuffle`이라는 인자를 통해 data들을 섞을지 결정해줍니다.\n",
        "우리는 SGD가 완전 랜덤으로 batch를 구성해야 잘 동작하는 것을 알고 있기 때문에 `shuffle`에 `True`를 넘겨주고 있습니다.\n",
        "\n",
        "다음은 첫 번째 batch를 출력한 모습입니다."
      ],
      "metadata": {
        "id": "z4Qyrm4WlzWt"
      }
    },
    {
      "cell_type": "code",
      "source": [
        "dataiter = iter(trainloader)\n",
        "images, labels = next(dataiter)\n",
        "print(images.shape, labels.shape)"
      ],
      "metadata": {
        "colab": {
          "base_uri": "https://localhost:8080/"
        },
        "id": "_Hd7XxyAvVNz",
        "outputId": "89a63ed0-58a7-4f7d-8229-9bb89b14a9c8"
      },
      "execution_count": 7,
      "outputs": [
        {
          "output_type": "stream",
          "name": "stdout",
          "text": [
            "torch.Size([256, 3, 32, 32]) torch.Size([256])\n"
          ]
        }
      ]
    },
    {
      "cell_type": "markdown",
      "source": [
        "`images`는 첫 번째 batch의 image들이고 `labels`는 첫 번째 batch의 label들입니다.\n",
        "위에서 batch size를 64로 설정했기 때문에 총 64개의 image와 label들이 있어야 합니다.\n",
        "실제 shape 출력 결과를 보면 그렇다는 것을 알 수 있습니다.\n",
        "\n",
        "다음은 (n, 1, 28, 28) shape의 image를 입력받아 0~9 사이의 정수 하나를 출력하는 3-layer MLP를 구현합니다."
      ],
      "metadata": {
        "id": "h0ZY5mDimRUK"
      }
    },
    {
      "cell_type": "code",
      "source": [
        "from torch import nn\n",
        "\n",
        "\n",
        "class Model(nn.Module):\n",
        "  def __init__(self, input_dim, n_dim):\n",
        "    super().__init__()\n",
        "\n",
        "    self.layer1 = nn.Linear(input_dim, n_dim)\n",
        "    self.layer2 = nn.Linear(n_dim, n_dim)\n",
        "    self.layer3 = nn.Linear(n_dim, 10)\n",
        "\n",
        "    self.act = nn.LeakyReLU()\n",
        "\n",
        "  def forward(self, x):\n",
        "    x = torch.flatten(x, start_dim=1)\n",
        "    x = self.act(self.layer1(x))\n",
        "    x = self.act(self.layer2(x))\n",
        "    x = self.layer3(x)\n",
        "\n",
        "    return x"
      ],
      "metadata": {
        "id": "OLOA-ZGTuVVG"
      },
      "execution_count": 8,
      "outputs": []
    },
    {
      "cell_type": "code",
      "source": [
        "from torch.optim import SGD, Adam\n",
        "\n",
        "lr = 0.001\n",
        "\n",
        "model_opt_sgd = Model(3 * 32 * 32, 1024)\n",
        "model_opt_adam = Model(3 * 32 * 32, 1024)\n",
        "\n",
        "model_opt_sgd = model_opt_sgd.to('cuda')\n",
        "model_opt_adam = model_opt_adam.to('cuda')\n",
        "\n",
        "optimizer_sgd = SGD(model_opt_sgd.parameters(), lr=lr)\n",
        "optimizer_adam = Adam(model_opt_adam.parameters(), lr=lr)"
      ],
      "metadata": {
        "id": "RSz6DKJY4_di"
      },
      "execution_count": 9,
      "outputs": []
    },
    {
      "cell_type": "markdown",
      "source": [
        "이전의 2-layer MLP와 유사한 형태임을 알 수 있습니다.\n",
        "여기서 특이사항은 `forward`의 첫 번째 줄에 `torch.flatten`을 사용한다는 것입니다.\n",
        "`Linear`는 이전에도 봤다시피 (n, d) 형태의 shape을 입력받습니다.\n",
        "이미지는 (n, 1, 28, 28)이기 때문에 (n, 1 * 28 * 28)로 shape을 변환해야 선형 함수에 입력으로 주어줄 수 있게 됩니다.\n",
        "이 역할을 수행하는 것이 바로 `torch.flatten`입니다.\n",
        "우리는 첫 번째 shape인 n을 보존할 것이기 때문에 flatten할 차원은 `start_dim=1`로 넘겨주게 됩니다.\n",
        "\n",
        "다음은 gradient descent를 수행해줄 optimizer를 구현하는 모습입니다."
      ],
      "metadata": {
        "id": "tag1rNcwmnAr"
      }
    },
    {
      "cell_type": "markdown",
      "source": [
        "이전 코드와 거의 똑같습니다. 다른 점은 `model.to('cuda')` 코드를 통해 우리가 구현한 model을 GPU로 옮긴 것입니다.\n",
        "MNIST 부터는 모델과 data가 커지면서 훨씬 많은 행렬 연산이 이루어지기 때문에 GPU를 활용하는 것이 빠릅니다.\n",
        "\n",
        "다음은 model을 MNIST에 학습하는 코드입니다."
      ],
      "metadata": {
        "id": "5PooeOKMnRfZ"
      }
    },
    {
      "cell_type": "code",
      "source": [
        "def accuracy(model, dataloader):\n",
        "  cnt = 0\n",
        "  acc = 0\n",
        "\n",
        "  for data in dataloader:\n",
        "    inputs, labels = data\n",
        "    inputs, labels = inputs.to('cuda'), labels.to('cuda')\n",
        "\n",
        "    preds = model(inputs)\n",
        "    preds = torch.argmax(preds, dim=-1)\n",
        "\n",
        "    cnt += labels.shape[0]\n",
        "    acc += (labels == preds).sum().item()\n",
        "\n",
        "  return acc / cnt"
      ],
      "metadata": {
        "id": "TryX1hewvNiB",
        "collapsed": true
      },
      "execution_count": 10,
      "outputs": []
    },
    {
      "cell_type": "code",
      "source": [
        "def train(model, optimizer, trainloader, testloader=None, n_epochs = 50):\n",
        "    train_accs = []\n",
        "    test_accs = []\n",
        "    for epoch in range(n_epochs):\n",
        "      total_loss = 0.\n",
        "\n",
        "      model.train()\n",
        "      for data in trainloader:\n",
        "        model.zero_grad()\n",
        "        inputs, labels = data\n",
        "        inputs, labels = inputs.to('cuda'), labels.to('cuda')\n",
        "\n",
        "        preds = model(inputs)\n",
        "        CEL = torch.nn.CrossEntropyLoss()\n",
        "        loss = CEL(preds, labels)\n",
        "        loss.backward()\n",
        "        optimizer.step()\n",
        "\n",
        "        total_loss += loss.item()\n",
        "\n",
        "      with torch.no_grad():\n",
        "        model.eval()\n",
        "        train_accs.append(accuracy(model, trainloader))\n",
        "        if testloader: test_accs.append(accuracy(model, testloader))\n",
        "\n",
        "      print(f\"Epoch {epoch:3d} | Loss: {total_loss}\")\n",
        "\n",
        "    if testloader:\n",
        "        return train_accs, test_accs\n",
        "    else:\n",
        "        return train_accs"
      ],
      "metadata": {
        "id": "J8B96Z7QtVpm"
      },
      "execution_count": 15,
      "outputs": []
    },
    {
      "cell_type": "markdown",
      "source": [
        "출력 결과를 보면 잘 수렴하는 것을 볼 수 있습니다.\n",
        "이전 구현과 다른 점은 다음 두 가지입니다.\n",
        "- `for data in trainloader`를 통해 batch들을 iterate하면서 model을 학습합니다.\n",
        "- `inputs, labels = inputs.to('cuda'), labels.to('cuda')`를 통해 model의 입력으로 들어가는 tensor들을 GPU로 보냅니다.\n",
        "\n",
        "마지막으로 첫 번째 data에 대한 예측 결과를 살펴봅시다."
      ],
      "metadata": {
        "id": "YRDcptrqniX7"
      }
    },
    {
      "cell_type": "code",
      "source": [
        "adam_train = train(model_opt_adam, optimizer_adam, trainloader)\n",
        "sgd_train = train(model_opt_sgd, optimizer_sgd, trainloader)"
      ],
      "metadata": {
        "id": "Zct0ssSKwjt1",
        "colab": {
          "base_uri": "https://localhost:8080/"
        },
        "outputId": "99abe74d-7681-4d7e-d8b6-e7c5e3260faf"
      },
      "execution_count": 12,
      "outputs": [
        {
          "output_type": "stream",
          "name": "stdout",
          "text": [
            "Epoch   0 | Loss: 367.3200764656067\n",
            "Epoch   1 | Loss: 322.7859765291214\n",
            "Epoch   2 | Loss: 306.79421865940094\n",
            "Epoch   3 | Loss: 292.5290997028351\n",
            "Epoch   4 | Loss: 282.94611608982086\n",
            "Epoch   5 | Loss: 276.33003187179565\n",
            "Epoch   6 | Loss: 270.3927124738693\n",
            "Epoch   7 | Loss: 262.74456202983856\n",
            "Epoch   8 | Loss: 255.54834282398224\n",
            "Epoch   9 | Loss: 251.13218438625336\n",
            "Epoch  10 | Loss: 243.9607161283493\n",
            "Epoch  11 | Loss: 240.5031167268753\n",
            "Epoch  12 | Loss: 233.30956733226776\n",
            "Epoch  13 | Loss: 228.70578241348267\n",
            "Epoch  14 | Loss: 222.9118105173111\n",
            "Epoch  15 | Loss: 218.2978840470314\n",
            "Epoch  16 | Loss: 212.01883387565613\n",
            "Epoch  17 | Loss: 208.06112521886826\n",
            "Epoch  18 | Loss: 202.2173284292221\n",
            "Epoch  19 | Loss: 198.29423880577087\n",
            "Epoch  20 | Loss: 190.490882396698\n",
            "Epoch  21 | Loss: 187.84972393512726\n",
            "Epoch  22 | Loss: 180.0702560544014\n",
            "Epoch  23 | Loss: 176.3954701423645\n",
            "Epoch  24 | Loss: 170.05874836444855\n",
            "Epoch  25 | Loss: 164.8112689256668\n",
            "Epoch  26 | Loss: 159.56388121843338\n",
            "Epoch  27 | Loss: 154.34674751758575\n",
            "Epoch  28 | Loss: 149.20153945684433\n",
            "Epoch  29 | Loss: 143.25002831220627\n",
            "Epoch  30 | Loss: 140.6068115234375\n",
            "Epoch  31 | Loss: 134.56647300720215\n",
            "Epoch  32 | Loss: 128.0354885160923\n",
            "Epoch  33 | Loss: 124.27547609806061\n",
            "Epoch  34 | Loss: 119.59624907374382\n",
            "Epoch  35 | Loss: 114.68316730856895\n",
            "Epoch  36 | Loss: 110.04757845401764\n",
            "Epoch  37 | Loss: 104.31971478462219\n",
            "Epoch  38 | Loss: 101.62070804834366\n",
            "Epoch  39 | Loss: 98.38949346542358\n",
            "Epoch  40 | Loss: 95.99767458438873\n",
            "Epoch  41 | Loss: 91.74200603365898\n",
            "Epoch  42 | Loss: 87.86173614859581\n",
            "Epoch  43 | Loss: 81.52456703782082\n",
            "Epoch  44 | Loss: 81.43745774030685\n",
            "Epoch  45 | Loss: 77.55559855699539\n",
            "Epoch  46 | Loss: 71.39969418942928\n",
            "Epoch  47 | Loss: 72.7212899774313\n",
            "Epoch  48 | Loss: 69.45492112636566\n",
            "Epoch  49 | Loss: 67.32111372053623\n",
            "Epoch   0 | Loss: 450.16414761543274\n",
            "Epoch   1 | Loss: 448.0277407169342\n",
            "Epoch   2 | Loss: 446.12418603897095\n",
            "Epoch   3 | Loss: 444.2504971027374\n",
            "Epoch   4 | Loss: 442.316867351532\n",
            "Epoch   5 | Loss: 440.24985551834106\n",
            "Epoch   6 | Loss: 438.0450041294098\n",
            "Epoch   7 | Loss: 435.6254053115845\n",
            "Epoch   8 | Loss: 433.0451166629791\n",
            "Epoch   9 | Loss: 430.2950692176819\n",
            "Epoch  10 | Loss: 427.41070652008057\n",
            "Epoch  11 | Loss: 424.46034598350525\n",
            "Epoch  12 | Loss: 421.42040824890137\n",
            "Epoch  13 | Loss: 418.4759159088135\n",
            "Epoch  14 | Loss: 415.6268196105957\n",
            "Epoch  15 | Loss: 412.869181394577\n",
            "Epoch  16 | Loss: 410.3553385734558\n",
            "Epoch  17 | Loss: 407.865229845047\n",
            "Epoch  18 | Loss: 405.6426035165787\n",
            "Epoch  19 | Loss: 403.5043959617615\n",
            "Epoch  20 | Loss: 401.47257137298584\n",
            "Epoch  21 | Loss: 399.6085238456726\n",
            "Epoch  22 | Loss: 397.8237143754959\n",
            "Epoch  23 | Loss: 396.1100924015045\n",
            "Epoch  24 | Loss: 394.5563633441925\n",
            "Epoch  25 | Loss: 392.98903155326843\n",
            "Epoch  26 | Loss: 391.5317214727402\n",
            "Epoch  27 | Loss: 390.10231733322144\n",
            "Epoch  28 | Loss: 388.86135160923004\n",
            "Epoch  29 | Loss: 387.46738159656525\n",
            "Epoch  30 | Loss: 386.38533878326416\n",
            "Epoch  31 | Loss: 385.147487282753\n",
            "Epoch  32 | Loss: 384.0638357400894\n",
            "Epoch  33 | Loss: 382.9995846748352\n",
            "Epoch  34 | Loss: 381.99097752571106\n",
            "Epoch  35 | Loss: 380.9552946090698\n",
            "Epoch  36 | Loss: 380.0437513589859\n",
            "Epoch  37 | Loss: 379.0825819969177\n",
            "Epoch  38 | Loss: 378.36160230636597\n",
            "Epoch  39 | Loss: 377.31525015830994\n",
            "Epoch  40 | Loss: 376.49689424037933\n",
            "Epoch  41 | Loss: 375.6032736301422\n",
            "Epoch  42 | Loss: 374.8921049833298\n",
            "Epoch  43 | Loss: 374.2537274360657\n",
            "Epoch  44 | Loss: 373.36478424072266\n",
            "Epoch  45 | Loss: 372.76781272888184\n",
            "Epoch  46 | Loss: 372.1271975040436\n",
            "Epoch  47 | Loss: 371.3226786851883\n",
            "Epoch  48 | Loss: 370.7067301273346\n",
            "Epoch  49 | Loss: 370.1991620063782\n"
          ]
        }
      ]
    },
    {
      "cell_type": "markdown",
      "source": [
        "여기서 idx를 조정하여 다른 data에 대한 출력 결과도 볼 수 있습니다.\n",
        "예측 결과를 보시면 아직 성능이 그렇게 좋지 않은 것을 알 수 있습니다."
      ],
      "metadata": {
        "id": "qzgSOrMsoZ2z"
      }
    },
    {
      "cell_type": "code",
      "source": [
        "from matplotlib import pyplot as plt\n",
        "\n",
        "def showPlot(*results):\n",
        "    for result in results:\n",
        "        data = result['data']\n",
        "        label = result['label']\n",
        "        x = np.arange(len(data))\n",
        "        plt.plot(x, data, label=label)\n",
        "    plt.legend()\n",
        "    plt.show()"
      ],
      "metadata": {
        "id": "d6M4SpWQoML9"
      },
      "execution_count": 13,
      "outputs": []
    },
    {
      "cell_type": "code",
      "source": [
        "showPlot({'label': 'sgd', 'data': sgd_train}, {'label': 'adam', 'data': adam_train})"
      ],
      "metadata": {
        "colab": {
          "base_uri": "https://localhost:8080/",
          "height": 430
        },
        "id": "Gx_xS0mn5VyI",
        "outputId": "4b1665c3-0aa3-48a2-d3a3-6d5e7fa43306"
      },
      "execution_count": 14,
      "outputs": [
        {
          "output_type": "display_data",
          "data": {
            "text/plain": [
              "<Figure size 640x480 with 1 Axes>"
            ],
            "image/png": "[encoded data removed]"
          },
          "metadata": {}
        }
      ]
    }
  ]
}